{
  "nbformat": 4,
  "nbformat_minor": 0,
  "metadata": {
    "colab": {
      "provenance": [],
      "authorship_tag": "ABX9TyM4jclwKSb6tEDruAeT8E0Z",
      "include_colab_link": true
    },
    "kernelspec": {
      "name": "python3",
      "display_name": "Python 3"
    },
    "language_info": {
      "name": "python"
    }
  },
  "cells": [
    {
      "cell_type": "markdown",
      "metadata": {
        "id": "view-in-github",
        "colab_type": "text"
      },
      "source": [
        "<a href=\"https://colab.research.google.com/github/SangeethaKumari/AI-Learning-Projects/blob/main/PromptClissification%2CSummarizing%2CSentiment.ipynb\" target=\"_parent\"><img src=\"https://colab.research.google.com/assets/colab-badge.svg\" alt=\"Open In Colab\"/></a>"
      ]
    },
    {
      "cell_type": "code",
      "execution_count": null,
      "metadata": {
        "id": "6QUd5ViIXGnJ"
      },
      "outputs": [],
      "source": []
    },
    {
      "cell_type": "markdown",
      "metadata": {
        "tags": [],
        "id": "l6EY0YZgALy4Vggu8rgLEbnB"
      },
      "source": [
        "1. Install the Vertex AI SDK: Open a terminal window and enter the command below. You can also [install it in a virtualenv](https://googleapis.dev/python/aiplatform/latest/index.html)"
      ]
    },
    {
      "cell_type": "code",
      "metadata": {
        "tags": [],
        "id": "X0oYhWT9Djz5su6M8D2U5yFn"
      },
      "source": [
        "!pip install --upgrade google-genai\n",
        "!export GOOGLE_CLOUD_API_KEY=\"YOUR_API_KEY\""
      ],
      "execution_count": null,
      "outputs": []
    },
    {
      "cell_type": "markdown",
      "metadata": {
        "tags": [],
        "id": "Xi7yQJzIKcs0RzzO8gp3G7NK"
      },
      "source": [
        "2. Use the following code in your application to request a model response"
      ]
    },
    {
      "cell_type": "code",
      "metadata": {
        "tags": [],
        "id": "EoJsefdJgHDROsVP0wsUbYLr"
      },
      "source": [
        "from google import genai\n",
        "from google.genai import types\n",
        "import base64\n",
        "import os\n",
        "\n",
        "def generate():\n",
        "  client = genai.Client(\n",
        "      vertexai=True,\n",
        "      api_key=os.environ.get(\"GOOGLE_CLOUD_API_KEY\"),\n",
        "  )\n",
        "\n",
        "  msg1_text1 = types.Part.from_text(text=\"\"\"Explain this paragraph in one sentence:\n",
        "\n",
        "Antibiotics are a type of medication used to treat bacterial infections. They work by either killing the bacteria or preventing them from reproducing, allowing the body's immune system to fight off the infection. Antibiotics are usually taken orally in the form of pills, capsules, or liquid solutions, or sometimes administered intravenously. They are not effective against viral infections, and using them inappropriately can lead to antibiotic resistance.\"\"\")\n",
        "  msg2_text1 = types.Part.from_text(text=\"\"\"**Comprehending the Task**\n",
        "\n",
        "I'm focused on grasping the essence of the user's request: to encapsulate a paragraph in a single sentence. I've begun to analyze the given paragraph. My initial assessment centers on identifying the primary subject and key aspects like its definition and function.\n",
        "\n",
        "\n",
        "**Refining the Explanation**\n",
        "\n",
        "I'm now refining the one-sentence summary. Attempt 2 was good, but a bit verbose. Attempt 3 is much better, incorporating the key aspects – bacterial infection treatment via killing or inhibiting bacteria, and a clear caveat about viral infections. It is a good starting point for further optimization.\n",
        "\n",
        "\n",
        "**Refining and Evaluating Options**\n",
        "\n",
        "I'm now comparing and contrasting the various single-sentence summaries. Attempt 3 and 4 look great. I'm focusing on their respective strengths; Attempt 3's concise flow vs. Attempt 4's clarity. I'll evaluate the overall elegance of the wording. I will then pick one as the final answer.\n",
        "\n",
        "\n",
        "**Summarizing the Core Points**\n",
        "\n",
        "I'm now carefully reviewing and contrasting the generated summaries, particularly focusing on their ability to articulate the core concept in a clear, concise, and accurate manner. I will assess if they convey all essential aspects. Attempt A is good, and B is good, too. The final selection will prioritize natural language flow.\n",
        "\n",
        "\n",
        "**Summarizing the Core Message**\n",
        "\n",
        "I'm now zeroing in on the ultimate one-sentence summary, having evaluated several versions. I've narrowed it down to a few strong contenders and am fine-tuning the wording to maximize clarity and impact. I'm focusing on incorporating the essential elements of the original text while ensuring a smooth flow of ideas.\"\"\")\n",
        "  msg2_text2 = types.Part.from_text(text=\"\"\"Antibiotics are medications that treat bacterial infections by killing or stopping bacteria from reproducing, but they are ineffective against viruses and their misuse can lead to antibiotic resistance.\"\"\")\n",
        "  msg3_text1 = types.Part.from_text(text=\"\"\"Answer the question based on the context below. Keep the answer short and concise. Respond \\\"Unsure about answer\\\" if not sure about the answer.\n",
        "\n",
        "Context: In 1847, Ignaz Semmelweis, a doctor in Vienna, noticed a significant difference in death rates between two maternity clinics. He observed that doctors in one clinic often went directly from autopsies to deliveries. Semmelweis suspected that \\\"cadaverous particles\\\" from autopsies were transferred to maternity patients via their hands, causing puerperal fever. He introduced a handwashing protocol using a chlorinated lime solution before patient contact. This intervention reduced mortality rates in the affected clinic.\n",
        "\n",
        "Question: What was the solution used for handwashing?\"\"\")\n",
        "  msg4_text1 = types.Part.from_text(text=\"\"\"**Defining the Objective**\n",
        "\n",
        "I'm focused on grasping the essence of the user's instructions. Currently, I'm identifying the core request: to answer a question derived from provided text, offering concise responses, and indicating uncertainty with \\\"Unsure about answer\\\" if needed.\n",
        "\n",
        "\n",
        "**Refining the Response**\n",
        "\n",
        "I've analyzed the user's question, searching the text for keywords like \\\"handwashing\\\" and \\\"solution.\\\" I've located the pertinent sentence and extracted the answer: \\\"a chlorinated lime solution.\\\" I confirmed the answer's clarity, conciseness, and lack of ambiguity, confirming I don't need to indicate uncertainty.\"\"\")\n",
        "\n",
        "  model = \"gemini-2.5-pro\"\n",
        "  contents = [\n",
        "    types.Content(\n",
        "      role=\"user\",\n",
        "      parts=[\n",
        "        msg1_text1\n",
        "      ]\n",
        "    ),\n",
        "    types.Content(\n",
        "      role=\"model\",\n",
        "      parts=[\n",
        "        msg2_text1,\n",
        "        msg2_text2\n",
        "      ]\n",
        "    ),\n",
        "    types.Content(\n",
        "      role=\"user\",\n",
        "      parts=[\n",
        "        msg3_text1\n",
        "      ]\n",
        "    ),\n",
        "    types.Content(\n",
        "      role=\"model\",\n",
        "      parts=[\n",
        "        msg4_text1,\n",
        "        types.Part.from_text(text=\"\"\"A chlorinated lime solution.\"\"\")\n",
        "      ]\n",
        "    ),\n",
        "    types.Content(\n",
        "      role=\"user\",\n",
        "      parts=[\n",
        "        types.Part.from_text(text=\"\"\"Classify the text into neutral, negative or positive.\n",
        "\n",
        "Text: I think the hospital staff was ok.\"\"\")\n",
        "      ]\n",
        "    ),\n",
        "  ]\n",
        "\n",
        "  generate_content_config = types.GenerateContentConfig(\n",
        "    temperature = 1,\n",
        "    top_p = 0.95,\n",
        "    max_output_tokens = 65535,\n",
        "    safety_settings = [types.SafetySetting(\n",
        "      category=\"HARM_CATEGORY_HATE_SPEECH\",\n",
        "      threshold=\"OFF\"\n",
        "    ),types.SafetySetting(\n",
        "      category=\"HARM_CATEGORY_DANGEROUS_CONTENT\",\n",
        "      threshold=\"OFF\"\n",
        "    ),types.SafetySetting(\n",
        "      category=\"HARM_CATEGORY_SEXUALLY_EXPLICIT\",\n",
        "      threshold=\"OFF\"\n",
        "    ),types.SafetySetting(\n",
        "      category=\"HARM_CATEGORY_HARASSMENT\",\n",
        "      threshold=\"OFF\"\n",
        "    )],\n",
        "    thinking_config=types.ThinkingConfig(\n",
        "      thinking_budget=-1,\n",
        "    ),\n",
        "  )\n",
        "\n",
        "  for chunk in client.models.generate_content_stream(\n",
        "    model = model,\n",
        "    contents = contents,\n",
        "    config = generate_content_config,\n",
        "    ):\n",
        "    print(chunk.text, end=\"\")\n",
        "\n",
        "generate()"
      ],
      "execution_count": null,
      "outputs": []
    }
  ]
}